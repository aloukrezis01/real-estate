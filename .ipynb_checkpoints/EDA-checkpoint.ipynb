{
 "cells": [
  {
   "cell_type": "code",
   "execution_count": 32,
   "id": "ee6d980f-b22b-4724-b14d-fd5e8ba9481f",
   "metadata": {},
   "outputs": [],
   "source": [
    "import pandas as pd\n",
    "import numpy as np\n",
    "import matplotlib.pyplot as plt\n",
    "import seaborn as sns\n",
    "\n",
    "import datetime\n",
    "from datetime import datetime\n",
    "from datetime import timedelta\n",
    "from dateutil import rrule\n",
    "import time\n"
   ]
  },
  {
   "cell_type": "code",
   "execution_count": null,
   "id": "0dadb9a5-0f08-447c-a758-dcdf5488ee24",
   "metadata": {},
   "outputs": [],
   "source": []
  },
  {
   "cell_type": "code",
   "execution_count": null,
   "id": "fbfff66d-108e-465e-a268-3f974b0149d0",
   "metadata": {},
   "outputs": [],
   "source": []
  },
  {
   "cell_type": "code",
   "execution_count": null,
   "id": "1554ecbd-2dd9-4f97-b374-c364a20042fb",
   "metadata": {},
   "outputs": [],
   "source": []
  },
  {
   "cell_type": "markdown",
   "id": "a514d19d-625a-488b-adc0-2ac1849c9ab6",
   "metadata": {},
   "source": [
    "## Exploratory Data Analysis"
   ]
  },
  {
   "cell_type": "code",
   "execution_count": null,
   "id": "3604291e-7421-4a86-b90b-b2e506b2b49c",
   "metadata": {},
   "outputs": [],
   "source": []
  },
  {
   "cell_type": "code",
   "execution_count": null,
   "id": "122974ee-b2f0-4576-9406-83499f03d3ae",
   "metadata": {},
   "outputs": [],
   "source": []
  },
  {
   "cell_type": "code",
   "execution_count": null,
   "id": "e9410faf-8247-4b22-9a73-7459508bcadf",
   "metadata": {},
   "outputs": [],
   "source": []
  },
  {
   "cell_type": "code",
   "execution_count": null,
   "id": "1bfd3aaf-cf80-4558-86fa-5458b2acf772",
   "metadata": {},
   "outputs": [],
   "source": []
  },
  {
   "cell_type": "code",
   "execution_count": null,
   "id": "7b1213d4-b87b-4caf-80e9-2671a565c12b",
   "metadata": {},
   "outputs": [],
   "source": []
  },
  {
   "cell_type": "code",
   "execution_count": null,
   "id": "f233ace7-3e64-4bf8-b7ef-939173c1a4b6",
   "metadata": {},
   "outputs": [],
   "source": []
  },
  {
   "cell_type": "code",
   "execution_count": null,
   "id": "f37aa7ca-b729-41f0-9cea-a090b466c561",
   "metadata": {},
   "outputs": [],
   "source": []
  },
  {
   "cell_type": "code",
   "execution_count": null,
   "id": "b380391d-f8c0-46c8-980d-9a6ec03200d5",
   "metadata": {},
   "outputs": [],
   "source": []
  },
  {
   "cell_type": "code",
   "execution_count": null,
   "id": "7b6ebc72-9e4b-42b7-b453-49ab459a422d",
   "metadata": {},
   "outputs": [],
   "source": []
  },
  {
   "cell_type": "code",
   "execution_count": null,
   "id": "0f5495b1-ed41-4226-b340-76d1e0482968",
   "metadata": {},
   "outputs": [],
   "source": []
  },
  {
   "cell_type": "code",
   "execution_count": null,
   "id": "fcba76c4-6afa-4be8-8ab9-b5c7b9f97f4b",
   "metadata": {},
   "outputs": [],
   "source": []
  },
  {
   "cell_type": "code",
   "execution_count": null,
   "id": "9db340b8-bba2-4f65-8d7f-065de0f74a16",
   "metadata": {},
   "outputs": [],
   "source": []
  },
  {
   "cell_type": "code",
   "execution_count": null,
   "id": "ae240547-732a-4025-8ba1-4d729002cfc3",
   "metadata": {},
   "outputs": [],
   "source": []
  },
  {
   "cell_type": "code",
   "execution_count": null,
   "id": "71ea4e43-c585-47a0-86ed-a47073d8a9b5",
   "metadata": {},
   "outputs": [],
   "source": []
  },
  {
   "cell_type": "code",
   "execution_count": null,
   "id": "34c880e4-c6ec-4e71-994a-1e4469710731",
   "metadata": {},
   "outputs": [],
   "source": []
  },
  {
   "cell_type": "code",
   "execution_count": null,
   "id": "8099a7a3-7054-4850-bfb1-6b525092d44b",
   "metadata": {},
   "outputs": [],
   "source": []
  },
  {
   "cell_type": "code",
   "execution_count": null,
   "id": "73f700f3-a06c-4a71-ba3b-3e7412791e62",
   "metadata": {},
   "outputs": [],
   "source": []
  },
  {
   "cell_type": "code",
   "execution_count": null,
   "id": "5bbd166a-72ca-4166-b3de-c6e21fd0ca75",
   "metadata": {},
   "outputs": [],
   "source": []
  },
  {
   "cell_type": "markdown",
   "id": "bb5aee0f-f6b9-4465-8b40-58291be8b8cd",
   "metadata": {},
   "source": [
    "### Northeastern US:"
   ]
  },
  {
   "cell_type": "code",
   "execution_count": null,
   "id": "5f518ecb-067d-4a57-b02d-13069fd122d7",
   "metadata": {},
   "outputs": [],
   "source": []
  },
  {
   "cell_type": "markdown",
   "id": "c433b283-0021-4506-b486-9d11697af61c",
   "metadata": {},
   "source": [
    "### New York City Metro"
   ]
  },
  {
   "cell_type": "code",
   "execution_count": null,
   "id": "3c4cc6ff-28ad-4c77-8b25-77bd1294777d",
   "metadata": {},
   "outputs": [],
   "source": []
  },
  {
   "cell_type": "code",
   "execution_count": null,
   "id": "2a9e2b6e-4fbc-4cf8-bea8-e75c07eedb66",
   "metadata": {},
   "outputs": [],
   "source": []
  },
  {
   "cell_type": "code",
   "execution_count": null,
   "id": "37ded22e-abe7-4eb3-a7de-0973e1c6560e",
   "metadata": {},
   "outputs": [],
   "source": []
  },
  {
   "cell_type": "code",
   "execution_count": null,
   "id": "3fb0b0e8-16fe-4e88-95a1-6f7777b30bd4",
   "metadata": {},
   "outputs": [],
   "source": []
  },
  {
   "cell_type": "markdown",
   "id": "6be99f06-badb-4ef3-98ae-a269a6a7335d",
   "metadata": {},
   "source": [
    "### Boston Metro"
   ]
  },
  {
   "cell_type": "code",
   "execution_count": null,
   "id": "1378411e-2d3a-48d3-a0f5-34ea0fb0993b",
   "metadata": {},
   "outputs": [],
   "source": []
  },
  {
   "cell_type": "code",
   "execution_count": null,
   "id": "480467d9-c965-4a68-8ee9-682ecb98fb8c",
   "metadata": {},
   "outputs": [],
   "source": []
  },
  {
   "cell_type": "markdown",
   "id": "e11d5e0a-7090-4b25-8308-e9b8fd8da1f3",
   "metadata": {},
   "source": [
    "### Washington DC/ Baltimore Metro"
   ]
  },
  {
   "cell_type": "code",
   "execution_count": null,
   "id": "0f1c48e9-0dc9-431f-a13a-4ef7fcc41fd0",
   "metadata": {},
   "outputs": [],
   "source": []
  },
  {
   "cell_type": "code",
   "execution_count": null,
   "id": "3595cf5f-2f47-443b-9cc8-826065ec8a3e",
   "metadata": {},
   "outputs": [],
   "source": []
  },
  {
   "cell_type": "code",
   "execution_count": null,
   "id": "09a02654-9753-4cc9-8684-fc8cc6876e13",
   "metadata": {},
   "outputs": [],
   "source": []
  },
  {
   "cell_type": "code",
   "execution_count": null,
   "id": "c12c4187-3019-475c-9c30-8e89eaae431e",
   "metadata": {},
   "outputs": [],
   "source": []
  },
  {
   "cell_type": "code",
   "execution_count": null,
   "id": "63389814-6ca7-48e7-be0e-3999c5d445a8",
   "metadata": {},
   "outputs": [],
   "source": [
    "### Southern US:"
   ]
  },
  {
   "cell_type": "code",
   "execution_count": null,
   "id": "befc869b-7dd5-4f65-aec9-7e17a389b8b6",
   "metadata": {},
   "outputs": [],
   "source": []
  },
  {
   "cell_type": "markdown",
   "id": "f199ec0b-0cfb-4ee3-b40c-4b34898d1d5b",
   "metadata": {},
   "source": [
    "### Miami/Ft. Lauderdale Metro"
   ]
  },
  {
   "cell_type": "code",
   "execution_count": null,
   "id": "08c0001f-be85-419a-8b30-1803cc226958",
   "metadata": {},
   "outputs": [],
   "source": []
  },
  {
   "cell_type": "code",
   "execution_count": null,
   "id": "762f40b6-a1fc-49ca-ac74-912448313ec2",
   "metadata": {},
   "outputs": [],
   "source": []
  },
  {
   "cell_type": "code",
   "execution_count": null,
   "id": "25726ace-8176-45d1-a2c0-15873f811fa7",
   "metadata": {},
   "outputs": [],
   "source": []
  },
  {
   "cell_type": "code",
   "execution_count": null,
   "id": "17350d3c-9129-4526-ae16-5b149025a803",
   "metadata": {},
   "outputs": [],
   "source": []
  },
  {
   "cell_type": "markdown",
   "id": "1b4751b0-228d-4781-818c-3e6ea68cc741",
   "metadata": {},
   "source": [
    "### Dallas/Fort Worth Metro"
   ]
  },
  {
   "cell_type": "code",
   "execution_count": null,
   "id": "4f02ecb0-65c4-4860-907a-06c41fb13085",
   "metadata": {},
   "outputs": [],
   "source": []
  },
  {
   "cell_type": "code",
   "execution_count": null,
   "id": "bc0d99ab-8470-4f2d-ac7d-7994cac14d2f",
   "metadata": {},
   "outputs": [],
   "source": []
  },
  {
   "cell_type": "code",
   "execution_count": null,
   "id": "e7d615c0-b0f8-456f-a04a-6b52889d56af",
   "metadata": {},
   "outputs": [],
   "source": []
  },
  {
   "cell_type": "code",
   "execution_count": null,
   "id": "4a2ba424-ecdf-4d5a-a530-dd23cfd83af3",
   "metadata": {},
   "outputs": [],
   "source": []
  },
  {
   "cell_type": "markdown",
   "id": "00eca8bc-8175-4105-a4d2-98a5a815ec90",
   "metadata": {},
   "source": [
    "### Houston Metro"
   ]
  },
  {
   "cell_type": "code",
   "execution_count": null,
   "id": "1c60ed3f-c158-4dbb-96b9-d99441f29a67",
   "metadata": {},
   "outputs": [],
   "source": []
  },
  {
   "cell_type": "code",
   "execution_count": null,
   "id": "fbec6ec7-2f4f-4c02-a93a-71bc1c61c987",
   "metadata": {},
   "outputs": [],
   "source": []
  },
  {
   "cell_type": "code",
   "execution_count": null,
   "id": "0c006b23-e7c7-48b1-ae33-f156f75e7ff5",
   "metadata": {},
   "outputs": [],
   "source": []
  },
  {
   "cell_type": "code",
   "execution_count": null,
   "id": "fe0d413c-089d-4995-8494-db14c6157f2d",
   "metadata": {},
   "outputs": [],
   "source": []
  },
  {
   "cell_type": "code",
   "execution_count": null,
   "id": "9a465120-4662-4232-bbf5-ab2eb7c821b5",
   "metadata": {},
   "outputs": [],
   "source": []
  },
  {
   "cell_type": "markdown",
   "id": "dcdf2ac5-57b6-4230-a0e4-9624e71933a8",
   "metadata": {},
   "source": [
    "### Austin Metro"
   ]
  },
  {
   "cell_type": "code",
   "execution_count": null,
   "id": "05d03434-ba06-4d9f-9d41-77a297104e27",
   "metadata": {},
   "outputs": [],
   "source": []
  },
  {
   "cell_type": "code",
   "execution_count": null,
   "id": "479c9f7b-2d61-4a4a-9fff-26515dbe5cb8",
   "metadata": {},
   "outputs": [],
   "source": []
  },
  {
   "cell_type": "code",
   "execution_count": null,
   "id": "6807c016-1e8d-48af-8cac-6042c3901ddc",
   "metadata": {},
   "outputs": [],
   "source": []
  },
  {
   "cell_type": "code",
   "execution_count": null,
   "id": "860686e8-9b16-428c-9fb6-c27d27c21ecb",
   "metadata": {},
   "outputs": [],
   "source": []
  },
  {
   "cell_type": "markdown",
   "id": "cce40ae7-09ad-4b8e-ab5b-b90cce36fc27",
   "metadata": {},
   "source": [
    "### San Antonio Metro"
   ]
  },
  {
   "cell_type": "code",
   "execution_count": null,
   "id": "d5b7007f-42c4-47f7-8fcb-aff75b1d5533",
   "metadata": {},
   "outputs": [],
   "source": []
  },
  {
   "cell_type": "code",
   "execution_count": null,
   "id": "f51e6b0e-bdc4-4a3d-b78a-7a2059a34447",
   "metadata": {},
   "outputs": [],
   "source": []
  },
  {
   "cell_type": "code",
   "execution_count": null,
   "id": "491d5e68-0365-47de-b700-374ec49c6649",
   "metadata": {},
   "outputs": [],
   "source": []
  },
  {
   "cell_type": "code",
   "execution_count": null,
   "id": "69cef6d1-7cee-4d3b-81dc-9457cf66724c",
   "metadata": {},
   "outputs": [],
   "source": []
  },
  {
   "cell_type": "code",
   "execution_count": null,
   "id": "be44af19-a59b-464d-835c-12f87030a4e8",
   "metadata": {},
   "outputs": [],
   "source": []
  },
  {
   "cell_type": "code",
   "execution_count": null,
   "id": "513210fe-d4f0-45e6-8d9b-5b0e69a7db73",
   "metadata": {},
   "outputs": [],
   "source": []
  },
  {
   "cell_type": "code",
   "execution_count": null,
   "id": "2b862921-88e2-4244-8b14-7242a53e85d6",
   "metadata": {},
   "outputs": [],
   "source": []
  }
 ],
 "metadata": {
  "kernelspec": {
   "display_name": "Python 3 (ipykernel)",
   "language": "python",
   "name": "python3"
  },
  "language_info": {
   "codemirror_mode": {
    "name": "ipython",
    "version": 3
   },
   "file_extension": ".py",
   "mimetype": "text/x-python",
   "name": "python",
   "nbconvert_exporter": "python",
   "pygments_lexer": "ipython3",
   "version": "3.8.18"
  }
 },
 "nbformat": 4,
 "nbformat_minor": 5
}
