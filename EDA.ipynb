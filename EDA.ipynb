{
 "cells": [
  {
   "cell_type": "code",
   "execution_count": 39,
   "id": "ee6d980f-b22b-4724-b14d-fd5e8ba9481f",
   "metadata": {},
   "outputs": [],
   "source": [
    "import pandas as pd\n",
    "import numpy as np\n",
    "import matplotlib.pyplot as plt\n",
    "import seaborn as sns\n",
    "\n",
    "import datetime\n",
    "from datetime import datetime\n",
    "from datetime import timedelta\n",
    "from dateutil import rrule\n",
    "import time\n"
   ]
  },
  {
   "cell_type": "code",
   "execution_count": null,
   "id": "0dadb9a5-0f08-447c-a758-dcdf5488ee24",
   "metadata": {},
   "outputs": [],
   "source": []
  },
  {
   "cell_type": "code",
   "execution_count": null,
   "id": "fbfff66d-108e-465e-a268-3f974b0149d0",
   "metadata": {},
   "outputs": [],
   "source": []
  },
  {
   "cell_type": "code",
   "execution_count": null,
   "id": "1554ecbd-2dd9-4f97-b374-c364a20042fb",
   "metadata": {},
   "outputs": [],
   "source": []
  },
  {
   "cell_type": "markdown",
   "id": "a514d19d-625a-488b-adc0-2ac1849c9ab6",
   "metadata": {},
   "source": [
    "## Exploratory Data Analysis"
   ]
  },
  {
   "cell_type": "code",
   "execution_count": 43,
   "id": "3604291e-7421-4a86-b90b-b2e506b2b49c",
   "metadata": {},
   "outputs": [
    {
     "ename": "KeyError",
     "evalue": "'New York-Newark-Jersey City, NY-NJ-PA'",
     "output_type": "error",
     "traceback": [
      "\u001b[0;31m---------------------------------------------------------------------------\u001b[0m",
      "\u001b[0;31mKeyError\u001b[0m                                  Traceback (most recent call last)",
      "File \u001b[0;32m/opt/anaconda3/envs/new_environment_01/lib/python3.8/site-packages/pandas/core/indexes/base.py:3653\u001b[0m, in \u001b[0;36mIndex.get_loc\u001b[0;34m(self, key)\u001b[0m\n\u001b[1;32m   3652\u001b[0m \u001b[38;5;28;01mtry\u001b[39;00m:\n\u001b[0;32m-> 3653\u001b[0m     \u001b[38;5;28;01mreturn\u001b[39;00m \u001b[38;5;28;43mself\u001b[39;49m\u001b[38;5;241;43m.\u001b[39;49m\u001b[43m_engine\u001b[49m\u001b[38;5;241;43m.\u001b[39;49m\u001b[43mget_loc\u001b[49m\u001b[43m(\u001b[49m\u001b[43mcasted_key\u001b[49m\u001b[43m)\u001b[49m\n\u001b[1;32m   3654\u001b[0m \u001b[38;5;28;01mexcept\u001b[39;00m \u001b[38;5;167;01mKeyError\u001b[39;00m \u001b[38;5;28;01mas\u001b[39;00m err:\n",
      "File \u001b[0;32m/opt/anaconda3/envs/new_environment_01/lib/python3.8/site-packages/pandas/_libs/index.pyx:147\u001b[0m, in \u001b[0;36mpandas._libs.index.IndexEngine.get_loc\u001b[0;34m()\u001b[0m\n",
      "File \u001b[0;32m/opt/anaconda3/envs/new_environment_01/lib/python3.8/site-packages/pandas/_libs/index.pyx:176\u001b[0m, in \u001b[0;36mpandas._libs.index.IndexEngine.get_loc\u001b[0;34m()\u001b[0m\n",
      "File \u001b[0;32mpandas/_libs/hashtable_class_helper.pxi:7080\u001b[0m, in \u001b[0;36mpandas._libs.hashtable.PyObjectHashTable.get_item\u001b[0;34m()\u001b[0m\n",
      "File \u001b[0;32mpandas/_libs/hashtable_class_helper.pxi:7088\u001b[0m, in \u001b[0;36mpandas._libs.hashtable.PyObjectHashTable.get_item\u001b[0;34m()\u001b[0m\n",
      "\u001b[0;31mKeyError\u001b[0m: 'New York-Newark-Jersey City, NY-NJ-PA'",
      "\nThe above exception was the direct cause of the following exception:\n",
      "\u001b[0;31mKeyError\u001b[0m                                  Traceback (most recent call last)",
      "Cell \u001b[0;32mIn[43], line 33\u001b[0m\n\u001b[1;32m     31\u001b[0m plt\u001b[38;5;241m.\u001b[39mfigure(figsize\u001b[38;5;241m=\u001b[39m(\u001b[38;5;241m15\u001b[39m, \u001b[38;5;241m7\u001b[39m))\n\u001b[1;32m     32\u001b[0m \u001b[38;5;28;01mfor\u001b[39;00m metro \u001b[38;5;129;01min\u001b[39;00m selected_metros:\n\u001b[0;32m---> 33\u001b[0m     plt\u001b[38;5;241m.\u001b[39mplot(transposed_data\u001b[38;5;241m.\u001b[39mindex, \u001b[43mtransposed_data\u001b[49m\u001b[43m[\u001b[49m\u001b[43mmetro\u001b[49m\u001b[43m]\u001b[49m, label\u001b[38;5;241m=\u001b[39mmetro)\n\u001b[1;32m     35\u001b[0m \u001b[38;5;66;03m# Formatting the plot\u001b[39;00m\n\u001b[1;32m     36\u001b[0m plt\u001b[38;5;241m.\u001b[39mtitle(\u001b[38;5;124m'\u001b[39m\u001b[38;5;124mAverage Home Price Change Over Time by Metro Area\u001b[39m\u001b[38;5;124m'\u001b[39m)\n",
      "File \u001b[0;32m/opt/anaconda3/envs/new_environment_01/lib/python3.8/site-packages/pandas/core/frame.py:3761\u001b[0m, in \u001b[0;36mDataFrame.__getitem__\u001b[0;34m(self, key)\u001b[0m\n\u001b[1;32m   3759\u001b[0m \u001b[38;5;28;01mif\u001b[39;00m \u001b[38;5;28mself\u001b[39m\u001b[38;5;241m.\u001b[39mcolumns\u001b[38;5;241m.\u001b[39mnlevels \u001b[38;5;241m>\u001b[39m \u001b[38;5;241m1\u001b[39m:\n\u001b[1;32m   3760\u001b[0m     \u001b[38;5;28;01mreturn\u001b[39;00m \u001b[38;5;28mself\u001b[39m\u001b[38;5;241m.\u001b[39m_getitem_multilevel(key)\n\u001b[0;32m-> 3761\u001b[0m indexer \u001b[38;5;241m=\u001b[39m \u001b[38;5;28;43mself\u001b[39;49m\u001b[38;5;241;43m.\u001b[39;49m\u001b[43mcolumns\u001b[49m\u001b[38;5;241;43m.\u001b[39;49m\u001b[43mget_loc\u001b[49m\u001b[43m(\u001b[49m\u001b[43mkey\u001b[49m\u001b[43m)\u001b[49m\n\u001b[1;32m   3762\u001b[0m \u001b[38;5;28;01mif\u001b[39;00m is_integer(indexer):\n\u001b[1;32m   3763\u001b[0m     indexer \u001b[38;5;241m=\u001b[39m [indexer]\n",
      "File \u001b[0;32m/opt/anaconda3/envs/new_environment_01/lib/python3.8/site-packages/pandas/core/indexes/base.py:3655\u001b[0m, in \u001b[0;36mIndex.get_loc\u001b[0;34m(self, key)\u001b[0m\n\u001b[1;32m   3653\u001b[0m     \u001b[38;5;28;01mreturn\u001b[39;00m \u001b[38;5;28mself\u001b[39m\u001b[38;5;241m.\u001b[39m_engine\u001b[38;5;241m.\u001b[39mget_loc(casted_key)\n\u001b[1;32m   3654\u001b[0m \u001b[38;5;28;01mexcept\u001b[39;00m \u001b[38;5;167;01mKeyError\u001b[39;00m \u001b[38;5;28;01mas\u001b[39;00m err:\n\u001b[0;32m-> 3655\u001b[0m     \u001b[38;5;28;01mraise\u001b[39;00m \u001b[38;5;167;01mKeyError\u001b[39;00m(key) \u001b[38;5;28;01mfrom\u001b[39;00m \u001b[38;5;21;01merr\u001b[39;00m\n\u001b[1;32m   3656\u001b[0m \u001b[38;5;28;01mexcept\u001b[39;00m \u001b[38;5;167;01mTypeError\u001b[39;00m:\n\u001b[1;32m   3657\u001b[0m     \u001b[38;5;66;03m# If we have a listlike key, _check_indexing_error will raise\u001b[39;00m\n\u001b[1;32m   3658\u001b[0m     \u001b[38;5;66;03m#  InvalidIndexError. Otherwise we fall through and re-raise\u001b[39;00m\n\u001b[1;32m   3659\u001b[0m     \u001b[38;5;66;03m#  the TypeError.\u001b[39;00m\n\u001b[1;32m   3660\u001b[0m     \u001b[38;5;28mself\u001b[39m\u001b[38;5;241m.\u001b[39m_check_indexing_error(key)\n",
      "\u001b[0;31mKeyError\u001b[0m: 'New York-Newark-Jersey City, NY-NJ-PA'"
     ]
    },
    {
     "data": {
      "text/plain": [
       "<Figure size 1500x700 with 0 Axes>"
      ]
     },
     "metadata": {},
     "output_type": "display_data"
    }
   ],
   "source": [
    "\n",
    "# Load the data from the CSV file\n",
    "data = pd.read_csv('updated_filtered_zhvi_price_data.csv')\n",
    "\n",
    "# Set \"RegionFullName\" as the index\n",
    "data.set_index('RegionFullName', inplace=True)\n",
    "\n",
    "# Define the metro areas of interest\n",
    "selected_metros = [\n",
    "    'New York-Newark-Jersey City, NY-NJ-PA', \n",
    "    'Bridgeport-Stamford-Norwalk, CT', \n",
    "    'Trenton-Princeton, NJ',\n",
    "    'Poughkeepsie-Newburgh-Middletown, NY'\n",
    "]\n",
    "\n",
    "# Ensure the metro areas are in the index and then filter\n",
    "filtered_data = data.loc[data.index.intersection(selected_metros)]\n",
    "\n",
    "# Replace NaN values with zero for the numeric columns (home prices over time)\n",
    "# Assuming that all columns after the 'State' column are dates with home values\n",
    "start_date_column_index = filtered_data.columns.get_loc('2000-01-31')\n",
    "date_columns = filtered_data.columns[start_date_column_index:]\n",
    "filtered_data_no_nan = filtered_data[date_columns].fillna(0)\n",
    "\n",
    "# Transpose the DataFrame to have dates as rows and metros as columns\n",
    "transposed_data = filtered_data_no_nan.transpose()\n",
    "\n",
    "# Convert the index to datetime for proper plotting\n",
    "transposed_data.index = pd.to_datetime(transposed_data.index, format='%Y-%m-%d')\n",
    "\n",
    "# Plot the time series for each metro area\n",
    "plt.figure(figsize=(15, 7))\n",
    "for metro in selected_metros:\n",
    "    plt.plot(transposed_data.index, transposed_data[metro], label=metro)\n",
    "\n",
    "# Formatting the plot\n",
    "plt.title('Average Home Price Change Over Time by Metro Area')\n",
    "plt.xlabel('Year')\n",
    "plt.ylabel('Average Home Price ($)')\n",
    "plt.legend(loc='upper left', bbox_to_anchor=(1, 0.5))\n",
    "plt.grid(True)\n",
    "plt.tight_layout(rect=[0, 0, 0.85, 1])  # Adjust layout to make room for the legend\n",
    "plt.show()\n"
   ]
  },
  {
   "cell_type": "code",
   "execution_count": null,
   "id": "122974ee-b2f0-4576-9406-83499f03d3ae",
   "metadata": {},
   "outputs": [],
   "source": []
  },
  {
   "cell_type": "code",
   "execution_count": null,
   "id": "e9410faf-8247-4b22-9a73-7459508bcadf",
   "metadata": {},
   "outputs": [],
   "source": []
  },
  {
   "cell_type": "code",
   "execution_count": null,
   "id": "1bfd3aaf-cf80-4558-86fa-5458b2acf772",
   "metadata": {},
   "outputs": [],
   "source": []
  },
  {
   "cell_type": "code",
   "execution_count": null,
   "id": "7b1213d4-b87b-4caf-80e9-2671a565c12b",
   "metadata": {},
   "outputs": [],
   "source": []
  },
  {
   "cell_type": "code",
   "execution_count": null,
   "id": "f233ace7-3e64-4bf8-b7ef-939173c1a4b6",
   "metadata": {},
   "outputs": [],
   "source": []
  },
  {
   "cell_type": "code",
   "execution_count": null,
   "id": "f37aa7ca-b729-41f0-9cea-a090b466c561",
   "metadata": {},
   "outputs": [],
   "source": []
  },
  {
   "cell_type": "code",
   "execution_count": null,
   "id": "b380391d-f8c0-46c8-980d-9a6ec03200d5",
   "metadata": {},
   "outputs": [],
   "source": []
  },
  {
   "cell_type": "code",
   "execution_count": null,
   "id": "7b6ebc72-9e4b-42b7-b453-49ab459a422d",
   "metadata": {},
   "outputs": [],
   "source": []
  },
  {
   "cell_type": "code",
   "execution_count": null,
   "id": "0f5495b1-ed41-4226-b340-76d1e0482968",
   "metadata": {},
   "outputs": [],
   "source": []
  },
  {
   "cell_type": "code",
   "execution_count": null,
   "id": "fcba76c4-6afa-4be8-8ab9-b5c7b9f97f4b",
   "metadata": {},
   "outputs": [],
   "source": []
  },
  {
   "cell_type": "code",
   "execution_count": null,
   "id": "9db340b8-bba2-4f65-8d7f-065de0f74a16",
   "metadata": {},
   "outputs": [],
   "source": []
  },
  {
   "cell_type": "code",
   "execution_count": null,
   "id": "ae240547-732a-4025-8ba1-4d729002cfc3",
   "metadata": {},
   "outputs": [],
   "source": []
  },
  {
   "cell_type": "code",
   "execution_count": null,
   "id": "71ea4e43-c585-47a0-86ed-a47073d8a9b5",
   "metadata": {},
   "outputs": [],
   "source": []
  },
  {
   "cell_type": "code",
   "execution_count": null,
   "id": "34c880e4-c6ec-4e71-994a-1e4469710731",
   "metadata": {},
   "outputs": [],
   "source": []
  },
  {
   "cell_type": "code",
   "execution_count": null,
   "id": "8099a7a3-7054-4850-bfb1-6b525092d44b",
   "metadata": {},
   "outputs": [],
   "source": []
  },
  {
   "cell_type": "code",
   "execution_count": null,
   "id": "73f700f3-a06c-4a71-ba3b-3e7412791e62",
   "metadata": {},
   "outputs": [],
   "source": []
  },
  {
   "cell_type": "code",
   "execution_count": null,
   "id": "5bbd166a-72ca-4166-b3de-c6e21fd0ca75",
   "metadata": {},
   "outputs": [],
   "source": []
  },
  {
   "cell_type": "markdown",
   "id": "bb5aee0f-f6b9-4465-8b40-58291be8b8cd",
   "metadata": {},
   "source": [
    "### Northeastern US:"
   ]
  },
  {
   "cell_type": "code",
   "execution_count": null,
   "id": "5f518ecb-067d-4a57-b02d-13069fd122d7",
   "metadata": {},
   "outputs": [],
   "source": []
  },
  {
   "cell_type": "markdown",
   "id": "c433b283-0021-4506-b486-9d11697af61c",
   "metadata": {},
   "source": [
    "### New York City Metro"
   ]
  },
  {
   "cell_type": "code",
   "execution_count": null,
   "id": "3c4cc6ff-28ad-4c77-8b25-77bd1294777d",
   "metadata": {},
   "outputs": [],
   "source": []
  },
  {
   "cell_type": "code",
   "execution_count": null,
   "id": "2a9e2b6e-4fbc-4cf8-bea8-e75c07eedb66",
   "metadata": {},
   "outputs": [],
   "source": []
  },
  {
   "cell_type": "code",
   "execution_count": null,
   "id": "37ded22e-abe7-4eb3-a7de-0973e1c6560e",
   "metadata": {},
   "outputs": [],
   "source": []
  },
  {
   "cell_type": "code",
   "execution_count": null,
   "id": "3fb0b0e8-16fe-4e88-95a1-6f7777b30bd4",
   "metadata": {},
   "outputs": [],
   "source": []
  },
  {
   "cell_type": "markdown",
   "id": "6be99f06-badb-4ef3-98ae-a269a6a7335d",
   "metadata": {},
   "source": [
    "### Boston Metro"
   ]
  },
  {
   "cell_type": "code",
   "execution_count": null,
   "id": "1378411e-2d3a-48d3-a0f5-34ea0fb0993b",
   "metadata": {},
   "outputs": [],
   "source": []
  },
  {
   "cell_type": "code",
   "execution_count": null,
   "id": "480467d9-c965-4a68-8ee9-682ecb98fb8c",
   "metadata": {},
   "outputs": [],
   "source": []
  },
  {
   "cell_type": "markdown",
   "id": "e11d5e0a-7090-4b25-8308-e9b8fd8da1f3",
   "metadata": {},
   "source": [
    "### Washington DC/ Baltimore Metro"
   ]
  },
  {
   "cell_type": "code",
   "execution_count": null,
   "id": "0f1c48e9-0dc9-431f-a13a-4ef7fcc41fd0",
   "metadata": {},
   "outputs": [],
   "source": []
  },
  {
   "cell_type": "code",
   "execution_count": null,
   "id": "3595cf5f-2f47-443b-9cc8-826065ec8a3e",
   "metadata": {},
   "outputs": [],
   "source": []
  },
  {
   "cell_type": "code",
   "execution_count": null,
   "id": "09a02654-9753-4cc9-8684-fc8cc6876e13",
   "metadata": {},
   "outputs": [],
   "source": []
  },
  {
   "cell_type": "code",
   "execution_count": null,
   "id": "c12c4187-3019-475c-9c30-8e89eaae431e",
   "metadata": {},
   "outputs": [],
   "source": []
  },
  {
   "cell_type": "code",
   "execution_count": null,
   "id": "63389814-6ca7-48e7-be0e-3999c5d445a8",
   "metadata": {},
   "outputs": [],
   "source": [
    "### Southern US:"
   ]
  },
  {
   "cell_type": "code",
   "execution_count": null,
   "id": "befc869b-7dd5-4f65-aec9-7e17a389b8b6",
   "metadata": {},
   "outputs": [],
   "source": []
  },
  {
   "cell_type": "markdown",
   "id": "f199ec0b-0cfb-4ee3-b40c-4b34898d1d5b",
   "metadata": {},
   "source": [
    "### Miami/Ft. Lauderdale Metro"
   ]
  },
  {
   "cell_type": "code",
   "execution_count": null,
   "id": "08c0001f-be85-419a-8b30-1803cc226958",
   "metadata": {},
   "outputs": [],
   "source": []
  },
  {
   "cell_type": "code",
   "execution_count": null,
   "id": "762f40b6-a1fc-49ca-ac74-912448313ec2",
   "metadata": {},
   "outputs": [],
   "source": []
  },
  {
   "cell_type": "code",
   "execution_count": null,
   "id": "25726ace-8176-45d1-a2c0-15873f811fa7",
   "metadata": {},
   "outputs": [],
   "source": []
  },
  {
   "cell_type": "code",
   "execution_count": null,
   "id": "17350d3c-9129-4526-ae16-5b149025a803",
   "metadata": {},
   "outputs": [],
   "source": []
  },
  {
   "cell_type": "markdown",
   "id": "1b4751b0-228d-4781-818c-3e6ea68cc741",
   "metadata": {},
   "source": [
    "### Dallas/Fort Worth Metro"
   ]
  },
  {
   "cell_type": "code",
   "execution_count": null,
   "id": "4f02ecb0-65c4-4860-907a-06c41fb13085",
   "metadata": {},
   "outputs": [],
   "source": []
  },
  {
   "cell_type": "code",
   "execution_count": null,
   "id": "bc0d99ab-8470-4f2d-ac7d-7994cac14d2f",
   "metadata": {},
   "outputs": [],
   "source": []
  },
  {
   "cell_type": "code",
   "execution_count": null,
   "id": "e7d615c0-b0f8-456f-a04a-6b52889d56af",
   "metadata": {},
   "outputs": [],
   "source": []
  },
  {
   "cell_type": "code",
   "execution_count": null,
   "id": "4a2ba424-ecdf-4d5a-a530-dd23cfd83af3",
   "metadata": {},
   "outputs": [],
   "source": []
  },
  {
   "cell_type": "markdown",
   "id": "00eca8bc-8175-4105-a4d2-98a5a815ec90",
   "metadata": {},
   "source": [
    "### Houston Metro"
   ]
  },
  {
   "cell_type": "code",
   "execution_count": null,
   "id": "1c60ed3f-c158-4dbb-96b9-d99441f29a67",
   "metadata": {},
   "outputs": [],
   "source": []
  },
  {
   "cell_type": "code",
   "execution_count": null,
   "id": "fbec6ec7-2f4f-4c02-a93a-71bc1c61c987",
   "metadata": {},
   "outputs": [],
   "source": []
  },
  {
   "cell_type": "code",
   "execution_count": null,
   "id": "0c006b23-e7c7-48b1-ae33-f156f75e7ff5",
   "metadata": {},
   "outputs": [],
   "source": []
  },
  {
   "cell_type": "code",
   "execution_count": null,
   "id": "fe0d413c-089d-4995-8494-db14c6157f2d",
   "metadata": {},
   "outputs": [],
   "source": []
  },
  {
   "cell_type": "code",
   "execution_count": null,
   "id": "9a465120-4662-4232-bbf5-ab2eb7c821b5",
   "metadata": {},
   "outputs": [],
   "source": []
  },
  {
   "cell_type": "markdown",
   "id": "dcdf2ac5-57b6-4230-a0e4-9624e71933a8",
   "metadata": {},
   "source": [
    "### Austin Metro"
   ]
  },
  {
   "cell_type": "code",
   "execution_count": null,
   "id": "05d03434-ba06-4d9f-9d41-77a297104e27",
   "metadata": {},
   "outputs": [],
   "source": []
  },
  {
   "cell_type": "code",
   "execution_count": null,
   "id": "479c9f7b-2d61-4a4a-9fff-26515dbe5cb8",
   "metadata": {},
   "outputs": [],
   "source": []
  },
  {
   "cell_type": "code",
   "execution_count": null,
   "id": "6807c016-1e8d-48af-8cac-6042c3901ddc",
   "metadata": {},
   "outputs": [],
   "source": []
  },
  {
   "cell_type": "code",
   "execution_count": null,
   "id": "860686e8-9b16-428c-9fb6-c27d27c21ecb",
   "metadata": {},
   "outputs": [],
   "source": []
  },
  {
   "cell_type": "markdown",
   "id": "cce40ae7-09ad-4b8e-ab5b-b90cce36fc27",
   "metadata": {},
   "source": [
    "### San Antonio Metro"
   ]
  },
  {
   "cell_type": "code",
   "execution_count": null,
   "id": "d5b7007f-42c4-47f7-8fcb-aff75b1d5533",
   "metadata": {},
   "outputs": [],
   "source": []
  },
  {
   "cell_type": "code",
   "execution_count": null,
   "id": "f51e6b0e-bdc4-4a3d-b78a-7a2059a34447",
   "metadata": {},
   "outputs": [],
   "source": []
  },
  {
   "cell_type": "code",
   "execution_count": null,
   "id": "491d5e68-0365-47de-b700-374ec49c6649",
   "metadata": {},
   "outputs": [],
   "source": []
  },
  {
   "cell_type": "code",
   "execution_count": null,
   "id": "69cef6d1-7cee-4d3b-81dc-9457cf66724c",
   "metadata": {},
   "outputs": [],
   "source": []
  },
  {
   "cell_type": "code",
   "execution_count": null,
   "id": "be44af19-a59b-464d-835c-12f87030a4e8",
   "metadata": {},
   "outputs": [],
   "source": []
  },
  {
   "cell_type": "code",
   "execution_count": null,
   "id": "513210fe-d4f0-45e6-8d9b-5b0e69a7db73",
   "metadata": {},
   "outputs": [],
   "source": []
  },
  {
   "cell_type": "code",
   "execution_count": null,
   "id": "2b862921-88e2-4244-8b14-7242a53e85d6",
   "metadata": {},
   "outputs": [],
   "source": []
  }
 ],
 "metadata": {
  "kernelspec": {
   "display_name": "Python 3 (ipykernel)",
   "language": "python",
   "name": "python3"
  },
  "language_info": {
   "codemirror_mode": {
    "name": "ipython",
    "version": 3
   },
   "file_extension": ".py",
   "mimetype": "text/x-python",
   "name": "python",
   "nbconvert_exporter": "python",
   "pygments_lexer": "ipython3",
   "version": "3.8.18"
  }
 },
 "nbformat": 4,
 "nbformat_minor": 5
}
